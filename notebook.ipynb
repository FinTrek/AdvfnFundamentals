{
 "cells": [
  {
   "cell_type": "code",
   "execution_count": 2,
   "metadata": {},
   "outputs": [],
   "source": [
    "import pandas as pd\n",
    "import numpy as np\n",
    "import requests\n",
    "import os\n",
    "import html\n",
    "from LogUtil import create_logger\n",
    "from lxml import etree\n",
    "import feedparser\n",
    "from SecEdgarDAO import SecEdgarDAO\n",
    "from XBRL import lookup_cik\n",
    "from MorningstarDAO import MorningstarDAO\n",
    "import pandas as pd\n",
    "import feedparser\n",
    "import requests\n",
    "import zipfile\n",
    "import io\n",
    "import datetime\n",
    "import calendar"
   ]
  },
  {
   "cell_type": "code",
   "execution_count": 20,
   "metadata": {},
   "outputs": [
    {
     "ename": "ValueError",
     "evalue": "No tables found",
     "traceback": [
      "\u001b[0;31m---------------------------------------------------------------------------\u001b[0m",
      "\u001b[0;31mValueError\u001b[0m                                Traceback (most recent call last)",
      "\u001b[0;32m<ipython-input-20-714be0e742d4>\u001b[0m in \u001b[0;36m<module>\u001b[0;34m()\u001b[0m\n\u001b[1;32m      4\u001b[0m \u001b[0mfull_url\u001b[0m \u001b[0;34m=\u001b[0m \u001b[0murl\u001b[0m \u001b[0;34m%\u001b[0m \u001b[0msymbol\u001b[0m\u001b[0;34m\u001b[0m\u001b[0m\n\u001b[1;32m      5\u001b[0m \u001b[0;34m\u001b[0m\u001b[0m\n\u001b[0;32m----> 6\u001b[0;31m \u001b[0mdf\u001b[0m \u001b[0;34m=\u001b[0m \u001b[0mpd\u001b[0m\u001b[0;34m.\u001b[0m\u001b[0mread_html\u001b[0m\u001b[0;34m(\u001b[0m\u001b[0mrequests\u001b[0m\u001b[0;34m.\u001b[0m\u001b[0mget\u001b[0m\u001b[0;34m(\u001b[0m\u001b[0mfull_url\u001b[0m\u001b[0;34m)\u001b[0m\u001b[0;34m.\u001b[0m\u001b[0mtext\u001b[0m\u001b[0;34m,\u001b[0m \u001b[0mindex_col\u001b[0m\u001b[0;34m=\u001b[0m\u001b[0;36m0\u001b[0m\u001b[0;34m)\u001b[0m\u001b[0;34m[\u001b[0m\u001b[0;36m0\u001b[0m\u001b[0;34m]\u001b[0m\u001b[0;34m\u001b[0m\u001b[0m\n\u001b[0m\u001b[1;32m      7\u001b[0m \u001b[0;34m'%010d'\u001b[0m \u001b[0;34m%\u001b[0m \u001b[0mdf\u001b[0m\u001b[0;34m.\u001b[0m\u001b[0mloc\u001b[0m\u001b[0;34m[\u001b[0m\u001b[0;34m'CIK'\u001b[0m\u001b[0;34m]\u001b[0m\u001b[0;34m\u001b[0m\u001b[0m\n",
      "\u001b[0;32m/home/zipline-live/PycharmProjects/AdvfnFundamentals/venv/lib/python3.6/site-packages/pandas/io/html.py\u001b[0m in \u001b[0;36mread_html\u001b[0;34m(io, match, flavor, header, index_col, skiprows, attrs, parse_dates, tupleize_cols, thousands, encoding, decimal, converters, na_values, keep_default_na)\u001b[0m\n\u001b[1;32m    913\u001b[0m                   \u001b[0mthousands\u001b[0m\u001b[0;34m=\u001b[0m\u001b[0mthousands\u001b[0m\u001b[0;34m,\u001b[0m \u001b[0mattrs\u001b[0m\u001b[0;34m=\u001b[0m\u001b[0mattrs\u001b[0m\u001b[0;34m,\u001b[0m \u001b[0mencoding\u001b[0m\u001b[0;34m=\u001b[0m\u001b[0mencoding\u001b[0m\u001b[0;34m,\u001b[0m\u001b[0;34m\u001b[0m\u001b[0m\n\u001b[1;32m    914\u001b[0m                   \u001b[0mdecimal\u001b[0m\u001b[0;34m=\u001b[0m\u001b[0mdecimal\u001b[0m\u001b[0;34m,\u001b[0m \u001b[0mconverters\u001b[0m\u001b[0;34m=\u001b[0m\u001b[0mconverters\u001b[0m\u001b[0;34m,\u001b[0m \u001b[0mna_values\u001b[0m\u001b[0;34m=\u001b[0m\u001b[0mna_values\u001b[0m\u001b[0;34m,\u001b[0m\u001b[0;34m\u001b[0m\u001b[0m\n\u001b[0;32m--> 915\u001b[0;31m                   keep_default_na=keep_default_na)\n\u001b[0m",
      "\u001b[0;32m/home/zipline-live/PycharmProjects/AdvfnFundamentals/venv/lib/python3.6/site-packages/pandas/io/html.py\u001b[0m in \u001b[0;36m_parse\u001b[0;34m(flavor, io, match, attrs, encoding, **kwargs)\u001b[0m\n\u001b[1;32m    747\u001b[0m             \u001b[0;32mbreak\u001b[0m\u001b[0;34m\u001b[0m\u001b[0m\n\u001b[1;32m    748\u001b[0m     \u001b[0;32melse\u001b[0m\u001b[0;34m:\u001b[0m\u001b[0;34m\u001b[0m\u001b[0m\n\u001b[0;32m--> 749\u001b[0;31m         \u001b[0mraise_with_traceback\u001b[0m\u001b[0;34m(\u001b[0m\u001b[0mretained\u001b[0m\u001b[0;34m)\u001b[0m\u001b[0;34m\u001b[0m\u001b[0m\n\u001b[0m\u001b[1;32m    750\u001b[0m \u001b[0;34m\u001b[0m\u001b[0m\n\u001b[1;32m    751\u001b[0m     \u001b[0mret\u001b[0m \u001b[0;34m=\u001b[0m \u001b[0;34m[\u001b[0m\u001b[0;34m]\u001b[0m\u001b[0;34m\u001b[0m\u001b[0m\n",
      "\u001b[0;32m/home/zipline-live/PycharmProjects/AdvfnFundamentals/venv/lib/python3.6/site-packages/pandas/compat/__init__.py\u001b[0m in \u001b[0;36mraise_with_traceback\u001b[0;34m(exc, traceback)\u001b[0m\n\u001b[1;32m    383\u001b[0m         \u001b[0;32mif\u001b[0m \u001b[0mtraceback\u001b[0m \u001b[0;34m==\u001b[0m \u001b[0mEllipsis\u001b[0m\u001b[0;34m:\u001b[0m\u001b[0;34m\u001b[0m\u001b[0m\n\u001b[1;32m    384\u001b[0m             \u001b[0m_\u001b[0m\u001b[0;34m,\u001b[0m \u001b[0m_\u001b[0m\u001b[0;34m,\u001b[0m \u001b[0mtraceback\u001b[0m \u001b[0;34m=\u001b[0m \u001b[0msys\u001b[0m\u001b[0;34m.\u001b[0m\u001b[0mexc_info\u001b[0m\u001b[0;34m(\u001b[0m\u001b[0;34m)\u001b[0m\u001b[0;34m\u001b[0m\u001b[0m\n\u001b[0;32m--> 385\u001b[0;31m         \u001b[0;32mraise\u001b[0m \u001b[0mexc\u001b[0m\u001b[0;34m.\u001b[0m\u001b[0mwith_traceback\u001b[0m\u001b[0;34m(\u001b[0m\u001b[0mtraceback\u001b[0m\u001b[0;34m)\u001b[0m\u001b[0;34m\u001b[0m\u001b[0m\n\u001b[0m\u001b[1;32m    386\u001b[0m \u001b[0;32melse\u001b[0m\u001b[0;34m:\u001b[0m\u001b[0;34m\u001b[0m\u001b[0m\n\u001b[1;32m    387\u001b[0m     \u001b[0;31m# this version of raise is a syntax error in Python 3\u001b[0m\u001b[0;34m\u001b[0m\u001b[0;34m\u001b[0m\u001b[0m\n",
      "\u001b[0;31mValueError\u001b[0m: No tables found"
     ],
     "output_type": "error"
    }
   ],
   "source": [
    "symbol = 'AAU'\n",
    "\n",
    "url = 'http://financials.morningstar.com/cmpind/company-profile/component.action?component=OperationDetails&t=%s'\n",
    "full_url = url % symbol\n",
    "\n",
    "df = pd.read_html(requests.get(full_url).text, index_col=0)[0]\n",
    "'%010d' % df.loc['CIK']"
   ]
  },
  {
   "cell_type": "code",
   "execution_count": 18,
   "metadata": {},
   "outputs": [
    {
     "data": {
      "text/plain": [
       "'0001672326'"
      ]
     },
     "execution_count": 18,
     "metadata": {},
     "output_type": "execute_result"
    }
   ],
   "source": [
    "'%010d' % df.loc['CIK']"
   ]
  },
  {
   "cell_type": "code",
   "execution_count": 7,
   "metadata": {},
   "outputs": [
    {
     "data": {
      "text/plain": [
       "1    1672326\n",
       "Name: CIK, dtype: object"
      ]
     },
     "execution_count": 7,
     "metadata": {},
     "output_type": "execute_result"
    }
   ],
   "source": [
    "df.loc['CIK']"
   ]
  },
  {
   "cell_type": "code",
   "execution_count": 29,
   "metadata": {},
   "outputs": [
    {
     "data": {
      "text/plain": [
       "['0000822411']"
      ]
     },
     "execution_count": 29,
     "metadata": {},
     "output_type": "execute_result"
    }
   ],
   "source": [
    "import feedparser\n",
    "from requests.utils import quote\n",
    "\n",
    "\n",
    "def lookup_cik_by_name(name):\n",
    "    url = 'https://www.sec.gov/cgi-bin/browse-edgar?company=%s&owner=exclude&action=getcompany&output=atom'\n",
    "    full_url = url % quote(name)\n",
    "    #/feed/company-info/cik\n",
    "    #/feed/entry/company-info/cik\n",
    "\n",
    "    atom = feedparser.parse(full_url)\n",
    "    if 'cik' in atom.feed:\n",
    "        return [atom.feed.cik]\n",
    "    \n",
    "    return [entry['cik'] for entry in atom.entries]\n",
    "\n",
    "#name = 'Yuma Energy, Inc.'\n",
    "name = 'ImmunoCellular Therapeutics, Ltd.'\n",
    "lookup_cik_by_name(name)"
   ]
  },
  {
   "cell_type": "code",
   "execution_count": 26,
   "metadata": {},
   "outputs": [
    {
     "data": {
      "text/plain": [
       "False"
      ]
     },
     "execution_count": 26,
     "metadata": {},
     "output_type": "execute_result"
    }
   ],
   "source": [
    "\n"
   ]
  },
  {
   "cell_type": "code",
   "execution_count": 20,
   "metadata": {},
   "outputs": [
    {
     "ename": "AttributeError",
     "evalue": "object has no attribute 'entries'",
     "traceback": [
      "\u001b[0;31m---------------------------------------------------------------------------\u001b[0m",
      "\u001b[0;31mKeyError\u001b[0m                                  Traceback (most recent call last)",
      "\u001b[0;32m/home/zipline-live/PycharmProjects/AdvfnFundamentals/venv/lib/python3.6/site-packages/feedparser.py\u001b[0m in \u001b[0;36m__getattr__\u001b[0;34m(self, key)\u001b[0m\n\u001b[1;32m    397\u001b[0m         \u001b[0;32mtry\u001b[0m\u001b[0;34m:\u001b[0m\u001b[0;34m\u001b[0m\u001b[0m\n\u001b[0;32m--> 398\u001b[0;31m             \u001b[0;32mreturn\u001b[0m \u001b[0mself\u001b[0m\u001b[0;34m.\u001b[0m\u001b[0m__getitem__\u001b[0m\u001b[0;34m(\u001b[0m\u001b[0mkey\u001b[0m\u001b[0;34m)\u001b[0m\u001b[0;34m\u001b[0m\u001b[0m\n\u001b[0m\u001b[1;32m    399\u001b[0m         \u001b[0;32mexcept\u001b[0m \u001b[0mKeyError\u001b[0m\u001b[0;34m:\u001b[0m\u001b[0;34m\u001b[0m\u001b[0m\n",
      "\u001b[0;32m/home/zipline-live/PycharmProjects/AdvfnFundamentals/venv/lib/python3.6/site-packages/feedparser.py\u001b[0m in \u001b[0;36m__getitem__\u001b[0;34m(self, key)\u001b[0m\n\u001b[1;32m    355\u001b[0m                 \u001b[0;32mreturn\u001b[0m \u001b[0mdict\u001b[0m\u001b[0;34m.\u001b[0m\u001b[0m__getitem__\u001b[0m\u001b[0;34m(\u001b[0m\u001b[0mself\u001b[0m\u001b[0;34m,\u001b[0m \u001b[0mrealkey\u001b[0m\u001b[0;34m)\u001b[0m\u001b[0;34m\u001b[0m\u001b[0m\n\u001b[0;32m--> 356\u001b[0;31m         \u001b[0;32mreturn\u001b[0m \u001b[0mdict\u001b[0m\u001b[0;34m.\u001b[0m\u001b[0m__getitem__\u001b[0m\u001b[0;34m(\u001b[0m\u001b[0mself\u001b[0m\u001b[0;34m,\u001b[0m \u001b[0mkey\u001b[0m\u001b[0;34m)\u001b[0m\u001b[0;34m\u001b[0m\u001b[0m\n\u001b[0m\u001b[1;32m    357\u001b[0m \u001b[0;34m\u001b[0m\u001b[0m\n",
      "\u001b[0;31mKeyError\u001b[0m: 'entries'",
      "\nDuring handling of the above exception, another exception occurred:\n",
      "\u001b[0;31mAttributeError\u001b[0m                            Traceback (most recent call last)",
      "\u001b[0;32m<ipython-input-20-18e21e58ee5a>\u001b[0m in \u001b[0;36m<module>\u001b[0;34m()\u001b[0m\n\u001b[0;32m----> 1\u001b[0;31m \u001b[0mfeed\u001b[0m\u001b[0;34m.\u001b[0m\u001b[0mfeed\u001b[0m\u001b[0;34m.\u001b[0m\u001b[0mentries\u001b[0m\u001b[0;34m\u001b[0m\u001b[0m\n\u001b[0m",
      "\u001b[0;32m/home/zipline-live/PycharmProjects/AdvfnFundamentals/venv/lib/python3.6/site-packages/feedparser.py\u001b[0m in \u001b[0;36m__getattr__\u001b[0;34m(self, key)\u001b[0m\n\u001b[1;32m    398\u001b[0m             \u001b[0;32mreturn\u001b[0m \u001b[0mself\u001b[0m\u001b[0;34m.\u001b[0m\u001b[0m__getitem__\u001b[0m\u001b[0;34m(\u001b[0m\u001b[0mkey\u001b[0m\u001b[0;34m)\u001b[0m\u001b[0;34m\u001b[0m\u001b[0m\n\u001b[1;32m    399\u001b[0m         \u001b[0;32mexcept\u001b[0m \u001b[0mKeyError\u001b[0m\u001b[0;34m:\u001b[0m\u001b[0;34m\u001b[0m\u001b[0m\n\u001b[0;32m--> 400\u001b[0;31m             \u001b[0;32mraise\u001b[0m \u001b[0mAttributeError\u001b[0m\u001b[0;34m(\u001b[0m\u001b[0;34m\"object has no attribute '%s'\"\u001b[0m \u001b[0;34m%\u001b[0m \u001b[0mkey\u001b[0m\u001b[0;34m)\u001b[0m\u001b[0;34m\u001b[0m\u001b[0m\n\u001b[0m\u001b[1;32m    401\u001b[0m \u001b[0;34m\u001b[0m\u001b[0m\n\u001b[1;32m    402\u001b[0m     \u001b[0;32mdef\u001b[0m \u001b[0m__hash__\u001b[0m\u001b[0;34m(\u001b[0m\u001b[0mself\u001b[0m\u001b[0;34m)\u001b[0m\u001b[0;34m:\u001b[0m\u001b[0;34m\u001b[0m\u001b[0m\n",
      "\u001b[0;31mAttributeError\u001b[0m: object has no attribute 'entries'"
     ],
     "output_type": "error"
    }
   ],
   "source": [
    "feed.feed.entries"
   ]
  },
  {
   "cell_type": "code",
   "execution_count": 6,
   "metadata": {},
   "outputs": [],
   "source": []
  },
  {
   "cell_type": "code",
   "execution_count": 3,
   "metadata": {},
   "outputs": [],
   "source": [
    "url = 'https://www.sec.gov/Archives/edgar/data/81318/000135448815003907/index.xml'\n",
    "\n",
    "response = requests.get(url, stream=True, timeout=5)\n",
    "doc = etree.fromstring(response.content)"
   ]
  },
  {
   "cell_type": "code",
   "execution_count": 12,
   "metadata": {},
   "outputs": [
    {
     "name": "stdout",
     "output_type": "stream",
     "text": [
      "yuma-20150630.xml\n"
     ]
    }
   ],
   "source": [
    "for elem in doc.iter('name'):\n",
    "    name = elem.text\n",
    "    if name.endswith('.xsd'):\n",
    "        print(name.replace('.xsd', '.xml'))"
   ]
  },
  {
   "cell_type": "code",
   "execution_count": 5,
   "metadata": {},
   "outputs": [
    {
     "name": "stdout",
     "output_type": "stream",
     "text": [
      "<Element name at 0x7fc4211d2f48>\n"
     ]
    }
   ],
   "source": [
    "for name in doc.xpath(\"/directory/name\"):\n",
    "    print(name)"
   ]
  },
  {
   "cell_type": "code",
   "execution_count": 84,
   "metadata": {},
   "outputs": [
    {
     "data": {
      "text/plain": [
       "<Element {http://xbrl.sec.gov/dei/2014-01-31}EntityCommonStockSharesOutstanding at 0x7f0e1a2f35c8>"
      ]
     },
     "execution_count": 84,
     "metadata": {},
     "output_type": "execute_result"
    }
   ],
   "source": [
    "doc.find(\"dei:EntityCommonStockSharesOutstanding\", doc.nsmap)"
   ]
  },
  {
   "cell_type": "code",
   "execution_count": 8,
   "metadata": {},
   "outputs": [],
   "source": [
    "feed = feedparser.parse(\"https://www.sec.gov/cgi-bin/browse-edgar?action=getcompany&CIK=0000769397&type=10-%25&dateb=&owner=exclude&start=0&count=10&output=atom\")"
   ]
  },
  {
   "cell_type": "code",
   "execution_count": 52,
   "metadata": {},
   "outputs": [
    {
     "name": "stdout",
     "output_type": "stream",
     "text": [
      "http://www.sec.gov/Archives/edgar/data/769397/000076939718000011/0000769397-18-000011-index.htm\n",
      "http://www.sec.gov/Archives/edgar/data/769397/000076939718000011/\n",
      "http://www.sec.gov/Archives/edgar/data/769397/000076939717000057/0000769397-17-000057-index.htm\n",
      "http://www.sec.gov/Archives/edgar/data/769397/000076939717000057/\n",
      "http://www.sec.gov/Archives/edgar/data/769397/000076939717000051/0000769397-17-000051-index.htm\n",
      "http://www.sec.gov/Archives/edgar/data/769397/000076939717000051/\n",
      "http://www.sec.gov/Archives/edgar/data/769397/000076939717000031/0000769397-17-000031-index.htm\n",
      "http://www.sec.gov/Archives/edgar/data/769397/000076939717000031/\n",
      "http://www.sec.gov/Archives/edgar/data/769397/000076939717000014/0000769397-17-000014-index.htm\n",
      "http://www.sec.gov/Archives/edgar/data/769397/000076939717000014/\n",
      "http://www.sec.gov/Archives/edgar/data/769397/000076939716000097/0000769397-16-000097-index.htm\n",
      "http://www.sec.gov/Archives/edgar/data/769397/000076939716000097/\n",
      "http://www.sec.gov/Archives/edgar/data/769397/000076939716000087/0000769397-16-000087-index.htm\n",
      "http://www.sec.gov/Archives/edgar/data/769397/000076939716000087/\n",
      "http://www.sec.gov/Archives/edgar/data/769397/000076939716000079/0000769397-16-000079-index.htm\n",
      "http://www.sec.gov/Archives/edgar/data/769397/000076939716000079/\n",
      "http://www.sec.gov/Archives/edgar/data/769397/000076939716000067/0000769397-16-000067-index.htm\n",
      "http://www.sec.gov/Archives/edgar/data/769397/000076939716000067/\n",
      "http://www.sec.gov/Archives/edgar/data/769397/000076939715000050/0000769397-15-000050-index.htm\n",
      "http://www.sec.gov/Archives/edgar/data/769397/000076939715000050/\n"
     ]
    }
   ],
   "source": [
    "for entry in feed.entries:\n",
    "    filing_href = entry['filing-href']\n",
    "    print(filing_href)\n",
    "    print(filing_href[0:filing_href.rfind('/')+1])"
   ]
  },
  {
   "cell_type": "code",
   "execution_count": 91,
   "metadata": {},
   "outputs": [
    {
     "data": {
      "text/plain": [
       "{datetime.date(2015, 10, 31): {'end_period': '2015-10-31',\n",
       "  'filing_date': '2015-12-09',\n",
       "  'filing_type': '10-Q',\n",
       "  'shares_outstanding': '225323161',\n",
       "  'shares_outstanding_date': '2015-11-30',\n",
       "  'xbrl_file': 'adsk-20151031.xml'},\n",
       " datetime.date(2016, 1, 31): {'end_period': '2016-01-31',\n",
       "  'filing_date': '2016-03-23',\n",
       "  'filing_type': '10-K',\n",
       "  'shares_outstanding': '224493192',\n",
       "  'shares_outstanding_date': '2016-03-09',\n",
       "  'xbrl_file': 'adsk-20160131.xml'},\n",
       " datetime.date(2016, 4, 30): {'end_period': '2016-04-30',\n",
       "  'filing_date': '2016-06-06',\n",
       "  'filing_type': '10-Q',\n",
       "  'shares_outstanding': '224656057',\n",
       "  'shares_outstanding_date': '2016-05-31',\n",
       "  'xbrl_file': 'adsk-20160430.xml'},\n",
       " datetime.date(2016, 7, 31): {'end_period': '2016-07-31',\n",
       "  'filing_date': '2016-08-30',\n",
       "  'filing_type': '10-Q',\n",
       "  'shares_outstanding': '221892961',\n",
       "  'shares_outstanding_date': '2016-08-23',\n",
       "  'xbrl_file': 'adsk-20160731.xml'},\n",
       " datetime.date(2016, 10, 31): {'end_period': '2016-10-31',\n",
       "  'filing_date': '2016-12-01',\n",
       "  'filing_type': '10-Q',\n",
       "  'shares_outstanding': '222556352',\n",
       "  'shares_outstanding_date': '2016-11-22',\n",
       "  'xbrl_file': 'adsk-20161031.xml'},\n",
       " datetime.date(2017, 1, 31): {'end_period': '2017-01-31',\n",
       "  'filing_date': '2017-03-21',\n",
       "  'filing_type': '10-K',\n",
       "  'shares_outstanding': '220849268',\n",
       "  'shares_outstanding_date': '2017-03-10',\n",
       "  'xbrl_file': 'adsk-20170131.xml'},\n",
       " datetime.date(2017, 4, 30): {'end_period': '2017-04-30',\n",
       "  'filing_date': '2017-05-31',\n",
       "  'filing_type': '10-Q',\n",
       "  'shares_outstanding': '220391696',\n",
       "  'shares_outstanding_date': '2017-05-25',\n",
       "  'xbrl_file': 'adsk-04302017x10q_htm.xml'},\n",
       " datetime.date(2017, 7, 31): {'end_period': '2017-07-31',\n",
       "  'filing_date': '2017-08-31',\n",
       "  'filing_type': '10-Q',\n",
       "  'shares_outstanding': '219192248',\n",
       "  'shares_outstanding_date': '2017-08-24',\n",
       "  'xbrl_file': 'adsk-20170731.xml'},\n",
       " datetime.date(2017, 10, 31): {'end_period': '2017-10-31',\n",
       "  'filing_date': '2017-12-05',\n",
       "  'filing_type': '10-Q',\n",
       "  'shares_outstanding': '220266822',\n",
       "  'shares_outstanding_date': '2017-11-30',\n",
       "  'xbrl_file': 'adsk-10312017x10q_htm.xml'},\n",
       " datetime.date(2018, 1, 31): {'end_period': '2018-01-31',\n",
       "  'filing_date': '2018-03-22',\n",
       "  'filing_type': '10-K',\n",
       "  'shares_outstanding': '218327862',\n",
       "  'shares_outstanding_date': '2018-03-12',\n",
       "  'xbrl_file': 'adsk-0131201810xk_htm.xml'}}"
      ]
     },
     "execution_count": 91,
     "metadata": {},
     "output_type": "execute_result"
    }
   ],
   "source": [
    "class SecEdgarDAO(object):\n",
    "\n",
    "    def __init__(self):\n",
    "        self.url = \"https://www.sec.gov/cgi-bin/browse-edgar?action=getcompany&CIK=%s&type=10-%%25&dateb=&owner=exclude&start=0&count=10&output=atom\"\n",
    "\n",
    "    def _normalise_date(self, date):\n",
    "        last_day_of_month = calendar.monthrange(date.year, date.month)[1]\n",
    "        if last_day_of_month != date.day:\n",
    "            if date.day <= 15:\n",
    "                new_month = date.month - 1 if date.month > 1 else 12\n",
    "                new_day = calendar.monthrange(date.year, new_month)[1]\n",
    "                new_year = date.year if new_month != 12 else date.year - 1\n",
    "                date = datetime.date(new_year, new_month, new_day)\n",
    "            else:\n",
    "                date = datetime.date(date.year, date.month, last_day_of_month)\n",
    "        return date\n",
    "\n",
    "    def _load_filings(self, cik, ignore_amended=False):\n",
    "        full_url = self.url % (cik)\n",
    "        feed = feedparser.parse(full_url)\n",
    "        \n",
    "        date_dict = {}\n",
    "        for entry in feed.entries:\n",
    "            filing_type = entry['filing-type']\n",
    "            # skip amended\n",
    "            if ignore_amended and filing_type not in ['10-Q', '10-K']:\n",
    "                continue\n",
    "            href = entry['filing-href']\n",
    "            filing_date = entry['filing-date']\n",
    "            folder = href[0:href.rfind('/')]\n",
    "            summary = folder + '/FilingSummary.xml'\n",
    "            \n",
    "            doc = etree.fromstring(requests.get(summary, stream=True, timeout=5).content)\n",
    "            xbrl_file = doc.xpath(\"/FilingSummary/MyReports/Report\")[0].attrib['instance']\n",
    "            xbrl_file = xbrl_file.replace('.htm', '_htm.xml')\n",
    "            \n",
    "            tree = etree.fromstring(requests.get(folder + '/' + xbrl_file, stream=True, timeout=5).content)\n",
    "                        \n",
    "            ns_xbrli = {'xbrli': 'http://www.xbrl.org/2003/instance'}\n",
    "            \n",
    "            shares_outstanding_node = tree.find(\"dei:EntityCommonStockSharesOutstanding\", tree.nsmap)\n",
    "            shares_outstanding_value = shares_outstanding_node.text\n",
    "            context_ref_id = shares_outstanding_node.attrib['contextRef']\n",
    "            instant = tree.find(\n",
    "                \"xbrli:context[@id = '%s']/xbrli:period/xbrli:instant\" % context_ref_id, ns_xbrli)\n",
    "            end_period = tree.find(\"dei:DocumentPeriodEndDate\", tree.nsmap).text\n",
    "            end_period_date = pd.to_datetime(end_period).date()\n",
    "            norm_end_period_date = self._normalise_date(end_period_date)\n",
    "            date_dict[norm_end_period_date] = {'xbrl_file': xbrl_file,\n",
    "                                     'filing_type': filing_type,\n",
    "                                     'filing_date': filing_date,\n",
    "                                     'end_period': end_period,\n",
    "                                     'shares_outstanding': shares_outstanding_value,\n",
    "                                     'shares_outstanding_date': instant.text}\n",
    "\n",
    "        return date_dict\n",
    "\n",
    "\n",
    "    def get_filings_dates(self, cik, period_dates=None):\n",
    "        date_dict = self._load_filings(cik, ignore_amended=True)\n",
    "        if period_dates is None:\n",
    "            period_dates = date_dict.keys()\n",
    "\n",
    "        try:\n",
    "            return [date_dict[x]['filing_date'] for x in period_dates]\n",
    "        except KeyError as e:\n",
    "            raise KeyError(\"Not all %s in %s\" % (period_dates, date_dict.keys()))\n",
    "\n",
    "\n",
    "    def get_shares_outstanding(self, cik):\n",
    "        date_dict = self._load_filings(cik)\n",
    "        return {date_dict[end_period]['shares_outstanding_date']: date_dict[end_period]['shares_outstanding'] for end_period in date_dict.keys()}\n",
    "\n",
    "\n",
    "edgar = SecEdgarDAO()\n",
    "#cik = '0001341439' #AAPL\n",
    "#cik = '0001593195' #TRNC\n",
    "cik = '0000769397' #ADSK\n",
    "edgar._load_filings(cik, ignore_amended=True)\n"
   ]
  },
  {
   "cell_type": "code",
   "execution_count": null,
   "metadata": {},
   "outputs": [],
   "source": []
  }
 ],
 "metadata": {
  "kernelspec": {
   "display_name": "Python 3",
   "language": "python",
   "name": "python3"
  },
  "language_info": {
   "codemirror_mode": {
    "name": "ipython",
    "version": 3
   },
   "file_extension": ".py",
   "mimetype": "text/x-python",
   "name": "python",
   "nbconvert_exporter": "python",
   "pygments_lexer": "ipython3",
   "version": "3.6.4"
  }
 },
 "nbformat": 4,
 "nbformat_minor": 1
}
